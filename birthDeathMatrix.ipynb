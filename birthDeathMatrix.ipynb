{
 "cells": [
  {
   "cell_type": "code",
   "execution_count": 6,
   "metadata": {},
   "outputs": [],
   "source": [
    "import pandas as pd\n",
    "import os\n",
    "import matplotlib.pyplot as plt\n"
   ]
  },
  {
   "cell_type": "code",
   "execution_count": 28,
   "metadata": {},
   "outputs": [
    {
     "ename": "NameError",
     "evalue": "name 'sort' is not defined",
     "output_type": "error",
     "traceback": [
      "\u001b[0;31m---------------------------------------------------------------------------\u001b[0m",
      "\u001b[0;31mNameError\u001b[0m                                 Traceback (most recent call last)",
      "Cell \u001b[0;32mIn[28], line 1\u001b[0m\n\u001b[0;32m----> 1\u001b[0m myList \u001b[38;5;241m=\u001b[39m sort(os\u001b[38;5;241m.\u001b[39mlistdir())\n\u001b[1;32m      2\u001b[0m \u001b[38;5;28;01mfor\u001b[39;00m file \u001b[38;5;129;01min\u001b[39;00m os\u001b[38;5;241m.\u001b[39mlistdir():\n\u001b[1;32m      3\u001b[0m     \u001b[38;5;28;01mif\u001b[39;00m \u001b[38;5;124m'\u001b[39m\u001b[38;5;124mbirthDeath\u001b[39m\u001b[38;5;124m'\u001b[39m \u001b[38;5;129;01min\u001b[39;00m file \u001b[38;5;129;01mand\u001b[39;00m \u001b[38;5;124m'\u001b[39m\u001b[38;5;124mcsv\u001b[39m\u001b[38;5;124m'\u001b[39m \u001b[38;5;129;01min\u001b[39;00m file \u001b[38;5;129;01mand\u001b[39;00m os\u001b[38;5;241m.\u001b[39mpath\u001b[38;5;241m.\u001b[39mgetsize(file) \u001b[38;5;241m>\u001b[39m \u001b[38;5;241m0\u001b[39m:\n",
      "\u001b[0;31mNameError\u001b[0m: name 'sort' is not defined"
     ]
    }
   ],
   "source": [
    "myList = os.listdir().sort()\n",
    "for file in os.listdir():\n",
    "    if 'birthDeath' in file and 'csv' in file and os.path.getsize(file) > 0:\n",
    "        print(file)\n",
    "        df = pd.read_csv(file, header=None)\n",
    "        df.columns = ['birth', 'death']\n",
    "        max_val = df[df != -1].max().max()\n",
    "        df = df.replace(-1, max_val)\n",
    "        print(df)\n",
    "        if df.shape[0] > 0:\n",
    "            plt.figure(figsize=(6, 6))\n",
    "            plt.scatter(df['birth'], df['death'], color='blue', label=f'H{file[-5]} features')\n",
    "            plt.plot([df['birth'].min(), df['death'].max()], [df['birth'].min(), df['death'].max()], 'r--', label='Diagonal')\n",
    "\n",
    "            plt.xlabel('Birth')\n",
    "            plt.ylabel('Death')\n",
    "            plt.title('Persistence Diagram of ' + file)\n",
    "            plt.legend()\n",
    "            plt.grid(True)\n",
    "            plt.axis('equal')\n",
    "            plt.show()"
   ]
  },
  {
   "cell_type": "code",
   "execution_count": null,
   "metadata": {},
   "outputs": [],
   "source": []
  }
 ],
 "metadata": {
  "kernelspec": {
   "display_name": "Python 3",
   "language": "python",
   "name": "python3"
  },
  "language_info": {
   "codemirror_mode": {
    "name": "ipython",
    "version": 3
   },
   "file_extension": ".py",
   "mimetype": "text/x-python",
   "name": "python",
   "nbconvert_exporter": "python",
   "pygments_lexer": "ipython3",
   "version": "3.12.4"
  }
 },
 "nbformat": 4,
 "nbformat_minor": 2
}
